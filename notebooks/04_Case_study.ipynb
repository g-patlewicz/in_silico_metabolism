{
 "cells": [
  {
   "cell_type": "code",
   "execution_count": 24,
   "metadata": {},
   "outputs": [],
   "source": [
    "import os as os\n",
    "import pandas as pd\n",
    "import numpy as np\n",
    "import sygma\n",
    "import matplotlib.pyplot as plt\n",
    "import seaborn as sns\n",
    "import matplotlib.image as mpimg\n",
    "\n",
    "from rdkit import Chem\n",
    "from rdkit import DataStructs\n",
    "from rdkit.Chem import AllChem\n",
    "from rdkit.Chem import PandasTools\n",
    "from rdkit.Chem import Descriptors\n",
    "from rdkit.Chem import rdMolDescriptors\n",
    "from rdkit.Chem import Draw\n",
    "\n",
    "import scipy.cluster.hierarchy as hc\n",
    "from scipy.spatial.distance import pdist, squareform, cdist\n",
    "%matplotlib inline"
   ]
  },
  {
   "cell_type": "markdown",
   "metadata": {},
   "source": [
    "#### WIP not for use in manuscript"
   ]
  },
  {
   "cell_type": "code",
   "execution_count": 2,
   "metadata": {},
   "outputs": [],
   "source": [
    "TOP = os.getcwd().replace('notebooks', '')"
   ]
  },
  {
   "cell_type": "code",
   "execution_count": 3,
   "metadata": {},
   "outputs": [],
   "source": [
    "raw_dat_dir = TOP + 'data/raw/'\n",
    "processed_dat_dir = TOP + 'data/processed/'\n",
    "interim_dat_dir = TOP + 'data/interim/'\n",
    "figures_dir = TOP + 'reports/figures/'\n",
    "external_dir = TOP + 'data/external/'"
   ]
  },
  {
   "cell_type": "code",
   "execution_count": 10,
   "metadata": {},
   "outputs": [],
   "source": [
    "df = pd.read_excel(external_dir+'matches_expt_times_ivt_mx_040621.xlsx', sheet_name = 'insilico_expt_comparison')"
   ]
  },
  {
   "cell_type": "code",
   "execution_count": 11,
   "metadata": {},
   "outputs": [],
   "source": [
    "df.drop(['Unnamed: 0'], axis = 1, inplace = True)"
   ]
  },
  {
   "cell_type": "code",
   "execution_count": 17,
   "metadata": {},
   "outputs": [],
   "source": [
    "df['Expt_Metab'] = df['Expt_Metab'].replace('ND', np.nan)"
   ]
  },
  {
   "cell_type": "code",
   "execution_count": 21,
   "metadata": {},
   "outputs": [],
   "source": [
    "df.iloc[:,4:] = df.iloc[:,4:].fillna(0)"
   ]
  },
  {
   "cell_type": "code",
   "execution_count": 22,
   "metadata": {},
   "outputs": [
    {
     "name": "stdout",
     "output_type": "stream",
     "text": [
      "<class 'pandas.core.frame.DataFrame'>\n",
      "RangeIndex: 140 entries, 0 to 139\n",
      "Data columns (total 8 columns):\n",
      " #   Column               Non-Null Count  Dtype  \n",
      "---  ------               --------------  -----  \n",
      " 0   Source               140 non-null    object \n",
      " 1   DTXSID               140 non-null    object \n",
      " 2   Metabolite_INCHIKEY  140 non-null    object \n",
      " 3   Final_SMILES         140 non-null    object \n",
      " 4   Expt_Metab           140 non-null    float64\n",
      " 5   Meteor               140 non-null    float64\n",
      " 6   TIMES_InVivo         140 non-null    float64\n",
      " 7   TIMES_InVitro        140 non-null    float64\n",
      "dtypes: float64(4), object(4)\n",
      "memory usage: 8.9+ KB\n"
     ]
    }
   ],
   "source": [
    "df.info()"
   ]
  },
  {
   "cell_type": "code",
   "execution_count": 23,
   "metadata": {},
   "outputs": [
    {
     "data": {
      "text/html": [
       "<div>\n",
       "<style scoped>\n",
       "    .dataframe tbody tr th:only-of-type {\n",
       "        vertical-align: middle;\n",
       "    }\n",
       "\n",
       "    .dataframe tbody tr th {\n",
       "        vertical-align: top;\n",
       "    }\n",
       "\n",
       "    .dataframe thead th {\n",
       "        text-align: right;\n",
       "    }\n",
       "</style>\n",
       "<table border=\"1\" class=\"dataframe\">\n",
       "  <thead>\n",
       "    <tr style=\"text-align: right;\">\n",
       "      <th></th>\n",
       "      <th>Source</th>\n",
       "      <th>DTXSID</th>\n",
       "      <th>Metabolite_INCHIKEY</th>\n",
       "      <th>Final_SMILES</th>\n",
       "      <th>Expt_Metab</th>\n",
       "      <th>Meteor</th>\n",
       "      <th>TIMES_InVivo</th>\n",
       "      <th>TIMES_InVitro</th>\n",
       "    </tr>\n",
       "  </thead>\n",
       "  <tbody>\n",
       "    <tr>\n",
       "      <th>0</th>\n",
       "      <td>2,4-TDA</td>\n",
       "      <td>DTXSID4020402</td>\n",
       "      <td>BATBGGSVKZESGJ-UHFFFAOYSA-N</td>\n",
       "      <td>CC(=O)Nc1cc(N)c(C)cc1O</td>\n",
       "      <td>1.0</td>\n",
       "      <td>1.0</td>\n",
       "      <td>1.0</td>\n",
       "      <td>0.0</td>\n",
       "    </tr>\n",
       "    <tr>\n",
       "      <th>1</th>\n",
       "      <td>2,4-TDA</td>\n",
       "      <td>DTXSID4020402</td>\n",
       "      <td>CEKKEYTVRSICNQ-UHFFFAOYSA-N</td>\n",
       "      <td>Cc1cc(O)c(N)c(SCC(NC(=O)CCC(N)C(=O)O)C(=O)NCC(...</td>\n",
       "      <td>0.0</td>\n",
       "      <td>0.0</td>\n",
       "      <td>0.0</td>\n",
       "      <td>1.0</td>\n",
       "    </tr>\n",
       "    <tr>\n",
       "      <th>2</th>\n",
       "      <td>2,4-TDA</td>\n",
       "      <td>DTXSID4020402</td>\n",
       "      <td>DGBUOAIABOATGK-UHFFFAOYSA-N</td>\n",
       "      <td>CC(=O)Nc1cc(N)ccc1CO</td>\n",
       "      <td>0.0</td>\n",
       "      <td>1.0</td>\n",
       "      <td>0.0</td>\n",
       "      <td>0.0</td>\n",
       "    </tr>\n",
       "    <tr>\n",
       "      <th>3</th>\n",
       "      <td>2,4-TDA</td>\n",
       "      <td>DTXSID4020402</td>\n",
       "      <td>DPKOCFTZJRJTQL-UHFFFAOYSA-N</td>\n",
       "      <td>Cc1cc(O)c(N)cc1N</td>\n",
       "      <td>1.0</td>\n",
       "      <td>1.0</td>\n",
       "      <td>1.0</td>\n",
       "      <td>1.0</td>\n",
       "    </tr>\n",
       "    <tr>\n",
       "      <th>4</th>\n",
       "      <td>2,4-TDA</td>\n",
       "      <td>DTXSID4020402</td>\n",
       "      <td>DYLOOKKMCKMECT-UHFFFAOYSA-N</td>\n",
       "      <td>Cc1ccc(N=O)cc1N</td>\n",
       "      <td>0.0</td>\n",
       "      <td>0.0</td>\n",
       "      <td>0.0</td>\n",
       "      <td>1.0</td>\n",
       "    </tr>\n",
       "  </tbody>\n",
       "</table>\n",
       "</div>"
      ],
      "text/plain": [
       "    Source         DTXSID          Metabolite_INCHIKEY  \\\n",
       "0  2,4-TDA  DTXSID4020402  BATBGGSVKZESGJ-UHFFFAOYSA-N   \n",
       "1  2,4-TDA  DTXSID4020402  CEKKEYTVRSICNQ-UHFFFAOYSA-N   \n",
       "2  2,4-TDA  DTXSID4020402  DGBUOAIABOATGK-UHFFFAOYSA-N   \n",
       "3  2,4-TDA  DTXSID4020402  DPKOCFTZJRJTQL-UHFFFAOYSA-N   \n",
       "4  2,4-TDA  DTXSID4020402  DYLOOKKMCKMECT-UHFFFAOYSA-N   \n",
       "\n",
       "                                        Final_SMILES  Expt_Metab  Meteor  \\\n",
       "0                             CC(=O)Nc1cc(N)c(C)cc1O         1.0     1.0   \n",
       "1  Cc1cc(O)c(N)c(SCC(NC(=O)CCC(N)C(=O)O)C(=O)NCC(...         0.0     0.0   \n",
       "2                               CC(=O)Nc1cc(N)ccc1CO         0.0     1.0   \n",
       "3                                   Cc1cc(O)c(N)cc1N         1.0     1.0   \n",
       "4                                    Cc1ccc(N=O)cc1N         0.0     0.0   \n",
       "\n",
       "   TIMES_InVivo  TIMES_InVitro  \n",
       "0           1.0            0.0  \n",
       "1           0.0            1.0  \n",
       "2           0.0            0.0  \n",
       "3           1.0            1.0  \n",
       "4           0.0            1.0  "
      ]
     },
     "execution_count": 23,
     "metadata": {},
     "output_type": "execute_result"
    }
   ],
   "source": [
    "df.head()"
   ]
  },
  {
   "cell_type": "code",
   "execution_count": 67,
   "metadata": {},
   "outputs": [],
   "source": [
    "df_times_iv = df[df['TIMES_InVivo']==1]"
   ]
  },
  {
   "cell_type": "code",
   "execution_count": 29,
   "metadata": {},
   "outputs": [
    {
     "data": {
      "text/html": [
       "<div>\n",
       "<style scoped>\n",
       "    .dataframe tbody tr th:only-of-type {\n",
       "        vertical-align: middle;\n",
       "    }\n",
       "\n",
       "    .dataframe tbody tr th {\n",
       "        vertical-align: top;\n",
       "    }\n",
       "\n",
       "    .dataframe thead th {\n",
       "        text-align: right;\n",
       "    }\n",
       "</style>\n",
       "<table border=\"1\" class=\"dataframe\">\n",
       "  <thead>\n",
       "    <tr style=\"text-align: right;\">\n",
       "      <th></th>\n",
       "      <th></th>\n",
       "      <th>Expt_Metab</th>\n",
       "      <th>Meteor</th>\n",
       "      <th>TIMES_InVivo</th>\n",
       "      <th>TIMES_InVitro</th>\n",
       "    </tr>\n",
       "    <tr>\n",
       "      <th>Source</th>\n",
       "      <th>DTXSID</th>\n",
       "      <th></th>\n",
       "      <th></th>\n",
       "      <th></th>\n",
       "      <th></th>\n",
       "    </tr>\n",
       "  </thead>\n",
       "  <tbody>\n",
       "    <tr>\n",
       "      <th>2,3-TDA</th>\n",
       "      <th>DTXSID4027494</th>\n",
       "      <td>0.0</td>\n",
       "      <td>14.0</td>\n",
       "      <td>8.0</td>\n",
       "      <td>19.0</td>\n",
       "    </tr>\n",
       "    <tr>\n",
       "      <th>2,4-TDA</th>\n",
       "      <th>DTXSID4020402</th>\n",
       "      <td>9.0</td>\n",
       "      <td>19.0</td>\n",
       "      <td>5.0</td>\n",
       "      <td>15.0</td>\n",
       "    </tr>\n",
       "    <tr>\n",
       "      <th>2,5-TDA</th>\n",
       "      <th>DTXSID6029123</th>\n",
       "      <td>1.0</td>\n",
       "      <td>18.0</td>\n",
       "      <td>2.0</td>\n",
       "      <td>15.0</td>\n",
       "    </tr>\n",
       "    <tr>\n",
       "      <th>2,6-TDA</th>\n",
       "      <th>DTXSID4027319</th>\n",
       "      <td>4.0</td>\n",
       "      <td>8.0</td>\n",
       "      <td>4.0</td>\n",
       "      <td>11.0</td>\n",
       "    </tr>\n",
       "    <tr>\n",
       "      <th>3,4-TDA</th>\n",
       "      <th>DTXSID9024930</th>\n",
       "      <td>0.0</td>\n",
       "      <td>15.0</td>\n",
       "      <td>8.0</td>\n",
       "      <td>18.0</td>\n",
       "    </tr>\n",
       "  </tbody>\n",
       "</table>\n",
       "</div>"
      ],
      "text/plain": [
       "                       Expt_Metab  Meteor  TIMES_InVivo  TIMES_InVitro\n",
       "Source  DTXSID                                                        \n",
       "2,3-TDA DTXSID4027494         0.0    14.0           8.0           19.0\n",
       "2,4-TDA DTXSID4020402         9.0    19.0           5.0           15.0\n",
       "2,5-TDA DTXSID6029123         1.0    18.0           2.0           15.0\n",
       "2,6-TDA DTXSID4027319         4.0     8.0           4.0           11.0\n",
       "3,4-TDA DTXSID9024930         0.0    15.0           8.0           18.0"
      ]
     },
     "execution_count": 29,
     "metadata": {},
     "output_type": "execute_result"
    }
   ],
   "source": [
    "df.groupby(['Source', 'DTXSID'])[['Expt_Metab', 'Meteor', 'TIMES_InVivo', 'TIMES_InVitro']].sum()"
   ]
  },
  {
   "cell_type": "code",
   "execution_count": 45,
   "metadata": {},
   "outputs": [
    {
     "data": {
      "text/plain": [
       "array(['DTXSID4020402', 'DTXSID4027319', 'DTXSID4027494', 'DTXSID6029123',\n",
       "       'DTXSID9024930'], dtype=object)"
      ]
     },
     "execution_count": 45,
     "metadata": {},
     "output_type": "execute_result"
    }
   ],
   "source": [
    "df.DTXSID.unique()"
   ]
  },
  {
   "cell_type": "code",
   "execution_count": 39,
   "metadata": {},
   "outputs": [
    {
     "data": {
      "text/html": [
       "<div>\n",
       "<style scoped>\n",
       "    .dataframe tbody tr th:only-of-type {\n",
       "        vertical-align: middle;\n",
       "    }\n",
       "\n",
       "    .dataframe tbody tr th {\n",
       "        vertical-align: top;\n",
       "    }\n",
       "\n",
       "    .dataframe thead th {\n",
       "        text-align: right;\n",
       "    }\n",
       "</style>\n",
       "<table border=\"1\" class=\"dataframe\">\n",
       "  <thead>\n",
       "    <tr style=\"text-align: right;\">\n",
       "      <th></th>\n",
       "      <th>0</th>\n",
       "      <th>1</th>\n",
       "      <th>2</th>\n",
       "      <th>3</th>\n",
       "      <th>4</th>\n",
       "      <th>5</th>\n",
       "      <th>6</th>\n",
       "      <th>7</th>\n",
       "      <th>8</th>\n",
       "      <th>9</th>\n",
       "      <th>...</th>\n",
       "      <th>130</th>\n",
       "      <th>131</th>\n",
       "      <th>132</th>\n",
       "      <th>133</th>\n",
       "      <th>134</th>\n",
       "      <th>135</th>\n",
       "      <th>136</th>\n",
       "      <th>137</th>\n",
       "      <th>138</th>\n",
       "      <th>139</th>\n",
       "    </tr>\n",
       "  </thead>\n",
       "  <tbody>\n",
       "    <tr>\n",
       "      <th>Expt_Metab</th>\n",
       "      <td>1.0</td>\n",
       "      <td>0.0</td>\n",
       "      <td>0.0</td>\n",
       "      <td>1.0</td>\n",
       "      <td>0.0</td>\n",
       "      <td>0.0</td>\n",
       "      <td>0.0</td>\n",
       "      <td>1.0</td>\n",
       "      <td>0.0</td>\n",
       "      <td>0.0</td>\n",
       "      <td>...</td>\n",
       "      <td>0.0</td>\n",
       "      <td>0.0</td>\n",
       "      <td>0.0</td>\n",
       "      <td>0.0</td>\n",
       "      <td>0.0</td>\n",
       "      <td>0.0</td>\n",
       "      <td>0.0</td>\n",
       "      <td>0.0</td>\n",
       "      <td>0.0</td>\n",
       "      <td>0.0</td>\n",
       "    </tr>\n",
       "    <tr>\n",
       "      <th>Meteor</th>\n",
       "      <td>1.0</td>\n",
       "      <td>0.0</td>\n",
       "      <td>1.0</td>\n",
       "      <td>1.0</td>\n",
       "      <td>0.0</td>\n",
       "      <td>1.0</td>\n",
       "      <td>1.0</td>\n",
       "      <td>0.0</td>\n",
       "      <td>0.0</td>\n",
       "      <td>1.0</td>\n",
       "      <td>...</td>\n",
       "      <td>0.0</td>\n",
       "      <td>1.0</td>\n",
       "      <td>1.0</td>\n",
       "      <td>0.0</td>\n",
       "      <td>0.0</td>\n",
       "      <td>0.0</td>\n",
       "      <td>0.0</td>\n",
       "      <td>1.0</td>\n",
       "      <td>0.0</td>\n",
       "      <td>1.0</td>\n",
       "    </tr>\n",
       "    <tr>\n",
       "      <th>TIMES_InVivo</th>\n",
       "      <td>1.0</td>\n",
       "      <td>0.0</td>\n",
       "      <td>0.0</td>\n",
       "      <td>1.0</td>\n",
       "      <td>0.0</td>\n",
       "      <td>0.0</td>\n",
       "      <td>0.0</td>\n",
       "      <td>0.0</td>\n",
       "      <td>0.0</td>\n",
       "      <td>0.0</td>\n",
       "      <td>...</td>\n",
       "      <td>0.0</td>\n",
       "      <td>0.0</td>\n",
       "      <td>0.0</td>\n",
       "      <td>0.0</td>\n",
       "      <td>1.0</td>\n",
       "      <td>0.0</td>\n",
       "      <td>1.0</td>\n",
       "      <td>0.0</td>\n",
       "      <td>0.0</td>\n",
       "      <td>0.0</td>\n",
       "    </tr>\n",
       "    <tr>\n",
       "      <th>TIMES_InVitro</th>\n",
       "      <td>0.0</td>\n",
       "      <td>1.0</td>\n",
       "      <td>0.0</td>\n",
       "      <td>1.0</td>\n",
       "      <td>1.0</td>\n",
       "      <td>1.0</td>\n",
       "      <td>0.0</td>\n",
       "      <td>0.0</td>\n",
       "      <td>1.0</td>\n",
       "      <td>1.0</td>\n",
       "      <td>...</td>\n",
       "      <td>1.0</td>\n",
       "      <td>0.0</td>\n",
       "      <td>0.0</td>\n",
       "      <td>1.0</td>\n",
       "      <td>0.0</td>\n",
       "      <td>1.0</td>\n",
       "      <td>0.0</td>\n",
       "      <td>0.0</td>\n",
       "      <td>1.0</td>\n",
       "      <td>0.0</td>\n",
       "    </tr>\n",
       "  </tbody>\n",
       "</table>\n",
       "<p>4 rows × 140 columns</p>\n",
       "</div>"
      ],
      "text/plain": [
       "               0    1    2    3    4    5    6    7    8    9    ...  130  \\\n",
       "Expt_Metab     1.0  0.0  0.0  1.0  0.0  0.0  0.0  1.0  0.0  0.0  ...  0.0   \n",
       "Meteor         1.0  0.0  1.0  1.0  0.0  1.0  1.0  0.0  0.0  1.0  ...  0.0   \n",
       "TIMES_InVivo   1.0  0.0  0.0  1.0  0.0  0.0  0.0  0.0  0.0  0.0  ...  0.0   \n",
       "TIMES_InVitro  0.0  1.0  0.0  1.0  1.0  1.0  0.0  0.0  1.0  1.0  ...  1.0   \n",
       "\n",
       "               131  132  133  134  135  136  137  138  139  \n",
       "Expt_Metab     0.0  0.0  0.0  0.0  0.0  0.0  0.0  0.0  0.0  \n",
       "Meteor         1.0  1.0  0.0  0.0  0.0  0.0  1.0  0.0  1.0  \n",
       "TIMES_InVivo   0.0  0.0  0.0  1.0  0.0  1.0  0.0  0.0  0.0  \n",
       "TIMES_InVitro  0.0  0.0  1.0  0.0  1.0  0.0  0.0  1.0  0.0  \n",
       "\n",
       "[4 rows x 140 columns]"
      ]
     },
     "execution_count": 39,
     "metadata": {},
     "output_type": "execute_result"
    }
   ],
   "source": [
    "model_fingerprint_DF = df.loc[:,['Expt_Metab', 'Meteor', 'TIMES_InVivo', 'TIMES_InVitro']].transpose()\n",
    "model_fingerprint_DF"
   ]
  },
  {
   "cell_type": "code",
   "execution_count": 63,
   "metadata": {},
   "outputs": [
    {
     "data": {
      "image/png": "[encoded data removed]",
      "text/plain": [
       "<Figure size 432x288 with 1 Axes>"
      ]
     },
     "metadata": {
      "needs_background": "light"
     },
     "output_type": "display_data"
    }
   ],
   "source": [
    "model_dist_vector = pdist(model_fingerprint_DF, 'jaccard')\n",
    "\n",
    "cluster = hc.linkage(model_dist_vector, method = 'ward')\n",
    "plot = hc.dendrogram(cluster, labels = ['Expt_Metab','Meteor', 'TIMES_InVivo', 'TIMES_InVitro'], leaf_rotation = 45)\n",
    "plt.ylabel('Jaccard Distance')\n",
    "\n",
    "plt.tight_layout()\n",
    "plt.savefig(figures_dir+'Dendrogram_TDA_170821.png', bbox_inches='tight');"
   ]
  },
  {
   "cell_type": "code",
   "execution_count": 44,
   "metadata": {},
   "outputs": [
    {
     "data": {
      "image/png": "[encoded data removed]",
      "text/plain": [
       "<Figure size 864x576 with 2 Axes>"
      ]
     },
     "metadata": {
      "needs_background": "light"
     },
     "output_type": "display_data"
    }
   ],
   "source": [
    "D_met = pd.DataFrame(squareform(model_dist_vector), columns = model_fingerprint_DF.index, index = model_fingerprint_DF.index)\n",
    "S_met = 1-D_met.where(np.tril(np.ones(D_met.shape)).astype(np.bool))\n",
    "\n",
    "plt.figure(figsize=(12, 8))\n",
    "sns.heatmap(S_met.round(2), cmap = 'coolwarm',annot=True, cbar_kws={'label': 'Jaccard similarity'}, annot_kws={\"size\": 16})\n",
    "plt.yticks(fontsize = 15)\n",
    "plt.xticks(fontsize = 15, rotation = 60)\n",
    "plt.savefig(figures_dir+'Similarity_TDA_170821.png', bbox_inches='tight');"
   ]
  },
  {
   "cell_type": "code",
   "execution_count": 60,
   "metadata": {},
   "outputs": [],
   "source": [
    "import scipy.cluster.hierarchy as hc\n",
    "from scipy.spatial.distance import pdist, squareform, cdist\n",
    "from scipy.cluster.hierarchy import dendrogram, linkage\n",
    "from scipy.spatial.distance import pdist, squareform\n",
    "from scipy.cluster.hierarchy import fcluster\n"
   ]
  },
  {
   "cell_type": "code",
   "execution_count": 46,
   "metadata": {},
   "outputs": [],
   "source": [
    "parents = pd.read_csv(external_dir+'TDAs.csv')"
   ]
  },
  {
   "cell_type": "code",
   "execution_count": 47,
   "metadata": {},
   "outputs": [
    {
     "data": {
      "text/html": [
       "<div>\n",
       "<style scoped>\n",
       "    .dataframe tbody tr th:only-of-type {\n",
       "        vertical-align: middle;\n",
       "    }\n",
       "\n",
       "    .dataframe tbody tr th {\n",
       "        vertical-align: top;\n",
       "    }\n",
       "\n",
       "    .dataframe thead th {\n",
       "        text-align: right;\n",
       "    }\n",
       "</style>\n",
       "<table border=\"1\" class=\"dataframe\">\n",
       "  <thead>\n",
       "    <tr style=\"text-align: right;\">\n",
       "      <th></th>\n",
       "      <th>INPUT</th>\n",
       "      <th>FOUND_BY</th>\n",
       "      <th>DTXSID</th>\n",
       "      <th>PREFERRED_NAME</th>\n",
       "      <th>INCHIKEY</th>\n",
       "      <th>SMILES</th>\n",
       "      <th>QSAR_READY_SMILES</th>\n",
       "    </tr>\n",
       "  </thead>\n",
       "  <tbody>\n",
       "    <tr>\n",
       "      <th>0</th>\n",
       "      <td>DTXSID4020402</td>\n",
       "      <td>DSSTox_Substance_Id</td>\n",
       "      <td>DTXSID4020402</td>\n",
       "      <td>2,4-Diaminotoluene</td>\n",
       "      <td>VOZKAJLKRJDJLL-UHFFFAOYSA-N</td>\n",
       "      <td>CC1=C(N)C=C(N)C=C1</td>\n",
       "      <td>CC1=C(N)C=C(N)C=C1</td>\n",
       "    </tr>\n",
       "    <tr>\n",
       "      <th>1</th>\n",
       "      <td>DTXSID4027319</td>\n",
       "      <td>DSSTox_Substance_Id</td>\n",
       "      <td>DTXSID4027319</td>\n",
       "      <td>2,6-Toluenediamine</td>\n",
       "      <td>RLYCRLGLCUXUPO-UHFFFAOYSA-N</td>\n",
       "      <td>CC1=C(N)C=CC=C1N</td>\n",
       "      <td>CC1=C(N)C=CC=C1N</td>\n",
       "    </tr>\n",
       "    <tr>\n",
       "      <th>2</th>\n",
       "      <td>DTXSID4027494</td>\n",
       "      <td>DSSTox_Substance_Id</td>\n",
       "      <td>DTXSID4027494</td>\n",
       "      <td>2,3-Diaminotoluene</td>\n",
       "      <td>AXNUJYHFQHQZBE-UHFFFAOYSA-N</td>\n",
       "      <td>CC1=C(N)C(N)=CC=C1</td>\n",
       "      <td>CC1=C(N)C(N)=CC=C1</td>\n",
       "    </tr>\n",
       "    <tr>\n",
       "      <th>3</th>\n",
       "      <td>DTXSID6029123</td>\n",
       "      <td>DSSTox_Substance_Id</td>\n",
       "      <td>DTXSID6029123</td>\n",
       "      <td>2-Methyl-1,4-benzenediamine</td>\n",
       "      <td>OBCSAIDCZQSFQH-UHFFFAOYSA-N</td>\n",
       "      <td>CC1=C(N)C=CC(N)=C1</td>\n",
       "      <td>CC1=C(N)C=CC(N)=C1</td>\n",
       "    </tr>\n",
       "    <tr>\n",
       "      <th>4</th>\n",
       "      <td>DTXSID9024930</td>\n",
       "      <td>DSSTox_Substance_Id</td>\n",
       "      <td>DTXSID9024930</td>\n",
       "      <td>3,4-Diaminotoluene</td>\n",
       "      <td>DGRGLKZMKWPMOH-UHFFFAOYSA-N</td>\n",
       "      <td>CC1=CC=C(N)C(N)=C1</td>\n",
       "      <td>CC1=CC=C(N)C(N)=C1</td>\n",
       "    </tr>\n",
       "  </tbody>\n",
       "</table>\n",
       "</div>"
      ],
      "text/plain": [
       "           INPUT             FOUND_BY         DTXSID  \\\n",
       "0  DTXSID4020402  DSSTox_Substance_Id  DTXSID4020402   \n",
       "1  DTXSID4027319  DSSTox_Substance_Id  DTXSID4027319   \n",
       "2  DTXSID4027494  DSSTox_Substance_Id  DTXSID4027494   \n",
       "3  DTXSID6029123  DSSTox_Substance_Id  DTXSID6029123   \n",
       "4  DTXSID9024930  DSSTox_Substance_Id  DTXSID9024930   \n",
       "\n",
       "                PREFERRED_NAME                     INCHIKEY  \\\n",
       "0           2,4-Diaminotoluene  VOZKAJLKRJDJLL-UHFFFAOYSA-N   \n",
       "1           2,6-Toluenediamine  RLYCRLGLCUXUPO-UHFFFAOYSA-N   \n",
       "2           2,3-Diaminotoluene  AXNUJYHFQHQZBE-UHFFFAOYSA-N   \n",
       "3  2-Methyl-1,4-benzenediamine  OBCSAIDCZQSFQH-UHFFFAOYSA-N   \n",
       "4           3,4-Diaminotoluene  DGRGLKZMKWPMOH-UHFFFAOYSA-N   \n",
       "\n",
       "               SMILES   QSAR_READY_SMILES  \n",
       "0  CC1=C(N)C=C(N)C=C1  CC1=C(N)C=C(N)C=C1  \n",
       "1    CC1=C(N)C=CC=C1N    CC1=C(N)C=CC=C1N  \n",
       "2  CC1=C(N)C(N)=CC=C1  CC1=C(N)C(N)=CC=C1  \n",
       "3  CC1=C(N)C=CC(N)=C1  CC1=C(N)C=CC(N)=C1  \n",
       "4  CC1=CC=C(N)C(N)=C1  CC1=CC=C(N)C(N)=C1  "
      ]
     },
     "execution_count": 47,
     "metadata": {},
     "output_type": "execute_result"
    }
   ],
   "source": [
    "parents"
   ]
  },
  {
   "cell_type": "code",
   "execution_count": 48,
   "metadata": {},
   "outputs": [],
   "source": [
    "parent_dict = {k:v for k,v in zip(parents['DTXSID'], parents['SMILES'])}"
   ]
  },
  {
   "cell_type": "code",
   "execution_count": 49,
   "metadata": {},
   "outputs": [],
   "source": [
    "parent_smi_dict = {k:Chem.MolFromSmiles(v) for k,v in parent_dict.items()}"
   ]
  },
  {
   "cell_type": "code",
   "execution_count": 81,
   "metadata": {},
   "outputs": [],
   "source": [
    "metab_dict = {}\n",
    "for i,group in df.groupby('DTXSID'):\n",
    "    key = [n for n in group['DTXSID'] if n !=' '][0]\n",
    "    value = list(group['Final_SMILES'])\n",
    "    metab_dict[key] = value"
   ]
  },
  {
   "cell_type": "code",
   "execution_count": 82,
   "metadata": {},
   "outputs": [],
   "source": [
    "metab_smi_dict = {k:[Chem.MolFromSmiles(e) for e in v] for k,v in metab_dict.items()}"
   ]
  },
  {
   "cell_type": "code",
   "execution_count": 83,
   "metadata": {},
   "outputs": [
    {
     "data": {
      "image/png": "[encoded data removed]",
      "text/plain": [
       "<rdkit.Chem.rdchem.Mol at 0x7f1d8f42ecb0>"
      ]
     },
     "execution_count": 83,
     "metadata": {},
     "output_type": "execute_result"
    }
   ],
   "source": [
    "metab_smi_dict['DTXSID4020402'][0]"
   ]
  },
  {
   "cell_type": "code",
   "execution_count": 84,
   "metadata": {},
   "outputs": [],
   "source": [
    "import sys\n",
    "\n",
    "sys.path.append('/home/grace/Documents/python/read_across/src/models/')\n",
    "\n",
    "import metabolism_sim as metab"
   ]
  },
  {
   "cell_type": "code",
   "execution_count": 85,
   "metadata": {},
   "outputs": [],
   "source": [
    "mylst = []\n",
    "\n",
    "for k in parent_dict.keys() & metab_dict.keys():\n",
    "    a = parent_dict[k] \n",
    "    b = metab_dict[k]\n",
    "    for n in range(0,len(b)):\n",
    "        c = b[n]\n",
    "        mylst.append([k,a,c])"
   ]
  },
  {
   "cell_type": "code",
   "execution_count": 86,
   "metadata": {},
   "outputs": [
    {
     "data": {
      "text/plain": [
       "140"
      ]
     },
     "execution_count": 86,
     "metadata": {},
     "output_type": "execute_result"
    }
   ],
   "source": [
    "len(mylst)"
   ]
  },
  {
   "cell_type": "code",
   "execution_count": 87,
   "metadata": {},
   "outputs": [],
   "source": [
    "mylst2 = []\n",
    "\n",
    "for k in parent_smi_dict.keys() & metab_smi_dict.keys():\n",
    "    a = parent_smi_dict[k] \n",
    "    b = metab_smi_dict[k]\n",
    "    b1 = metab_dict[k]\n",
    "    a1 = parent_dict[k]\n",
    "    for n in range(0,len(b)):\n",
    "        c = b[n]\n",
    "        d = b1[n]\n",
    "        rxn = metab.genFragReaction(a, c)\n",
    "        mylst2.append([k,rxn, a1, d])"
   ]
  },
  {
   "cell_type": "code",
   "execution_count": 88,
   "metadata": {},
   "outputs": [
    {
     "data": {
      "text/html": [
       "<div>\n",
       "<style scoped>\n",
       "    .dataframe tbody tr th:only-of-type {\n",
       "        vertical-align: middle;\n",
       "    }\n",
       "\n",
       "    .dataframe tbody tr th {\n",
       "        vertical-align: top;\n",
       "    }\n",
       "\n",
       "    .dataframe thead th {\n",
       "        text-align: right;\n",
       "    }\n",
       "</style>\n",
       "<table border=\"1\" class=\"dataframe\">\n",
       "  <thead>\n",
       "    <tr style=\"text-align: right;\">\n",
       "      <th></th>\n",
       "      <th>Parent_DTXSID</th>\n",
       "      <th>Frag</th>\n",
       "      <th>Parent_smiles</th>\n",
       "      <th>Metabolite_smiles</th>\n",
       "    </tr>\n",
       "  </thead>\n",
       "  <tbody>\n",
       "    <tr>\n",
       "      <th>0</th>\n",
       "      <td>DTXSID4027494</td>\n",
       "      <td>[#7]-[#6].[#6](:[#6]:[#6]:[#6]):[#6]&gt;&gt;[#6](-[#...</td>\n",
       "      <td>CC1=C(N)C(N)=CC=C1</td>\n",
       "      <td>CC1=CC(=O)C=C(N)C1=O</td>\n",
       "    </tr>\n",
       "    <tr>\n",
       "      <th>1</th>\n",
       "      <td>DTXSID4027494</td>\n",
       "      <td>[#7]-[#6].[#6](:[#6]:[#6]:[#6]):[#6]&gt;&gt;[#7]=[#6...</td>\n",
       "      <td>CC1=C(N)C(N)=CC=C1</td>\n",
       "      <td>N=C1C(N)=CC(=O)C=C1CO</td>\n",
       "    </tr>\n",
       "    <tr>\n",
       "      <th>2</th>\n",
       "      <td>DTXSID4027494</td>\n",
       "      <td>[#7]&gt;&gt;[#6]-[#6](=[#8])-[#7]</td>\n",
       "      <td>CC1=C(N)C(N)=CC=C1</td>\n",
       "      <td>CC(=O)Nc1c(C)cccc1N</td>\n",
       "    </tr>\n",
       "    <tr>\n",
       "      <th>3</th>\n",
       "      <td>DTXSID4027494</td>\n",
       "      <td>[#7]&gt;&gt;[#8](-[#16](=[#8])(=[#8])-[#8])-[#7]</td>\n",
       "      <td>CC1=C(N)C(N)=CC=C1</td>\n",
       "      <td>Cc1cccc(N)c1NOS(=O)(=O)O</td>\n",
       "    </tr>\n",
       "    <tr>\n",
       "      <th>4</th>\n",
       "      <td>DTXSID4027494</td>\n",
       "      <td>[#7].[#6]&gt;&gt;[#6]-[#6](=[#8])-[#7].[#8]-[#6]</td>\n",
       "      <td>CC1=C(N)C(N)=CC=C1</td>\n",
       "      <td>CC(=O)Nc1cccc(CO)c1N</td>\n",
       "    </tr>\n",
       "  </tbody>\n",
       "</table>\n",
       "</div>"
      ],
      "text/plain": [
       "   Parent_DTXSID                                               Frag  \\\n",
       "0  DTXSID4027494  [#7]-[#6].[#6](:[#6]:[#6]:[#6]):[#6]>>[#6](-[#...   \n",
       "1  DTXSID4027494  [#7]-[#6].[#6](:[#6]:[#6]:[#6]):[#6]>>[#7]=[#6...   \n",
       "2  DTXSID4027494                        [#7]>>[#6]-[#6](=[#8])-[#7]   \n",
       "3  DTXSID4027494         [#7]>>[#8](-[#16](=[#8])(=[#8])-[#8])-[#7]   \n",
       "4  DTXSID4027494         [#7].[#6]>>[#6]-[#6](=[#8])-[#7].[#8]-[#6]   \n",
       "\n",
       "        Parent_smiles         Metabolite_smiles  \n",
       "0  CC1=C(N)C(N)=CC=C1      CC1=CC(=O)C=C(N)C1=O  \n",
       "1  CC1=C(N)C(N)=CC=C1     N=C1C(N)=CC(=O)C=C1CO  \n",
       "2  CC1=C(N)C(N)=CC=C1       CC(=O)Nc1c(C)cccc1N  \n",
       "3  CC1=C(N)C(N)=CC=C1  Cc1cccc(N)c1NOS(=O)(=O)O  \n",
       "4  CC1=C(N)C(N)=CC=C1      CC(=O)Nc1cccc(CO)c1N  "
      ]
     },
     "execution_count": 88,
     "metadata": {},
     "output_type": "execute_result"
    }
   ],
   "source": [
    "reaction_DF = pd.DataFrame(mylst2, columns = ['Parent_DTXSID', 'Frag', 'Parent_smiles', 'Metabolite_smiles'])\n",
    "reaction_DF.head()"
   ]
  },
  {
   "cell_type": "code",
   "execution_count": 89,
   "metadata": {},
   "outputs": [
    {
     "name": "stdout",
     "output_type": "stream",
     "text": [
      "32\n"
     ]
    }
   ],
   "source": [
    "frag_lst = list(set(reaction_DF['Frag'].tolist()))\n",
    "print(len(frag_lst))"
   ]
  },
  {
   "cell_type": "code",
   "execution_count": 90,
   "metadata": {},
   "outputs": [],
   "source": [
    "frag_dict = {}\n",
    "for i,group in reaction_DF.groupby('Parent_DTXSID'):\n",
    "    k = [n for n in group['Parent_DTXSID'] if n != ' '][0]\n",
    "    v = list(set(group['Frag']))\n",
    "    frag_dict[k] = v"
   ]
  },
  {
   "cell_type": "code",
   "execution_count": 91,
   "metadata": {},
   "outputs": [
    {
     "data": {
      "text/html": [
       "<div>\n",
       "<style scoped>\n",
       "    .dataframe tbody tr th:only-of-type {\n",
       "        vertical-align: middle;\n",
       "    }\n",
       "\n",
       "    .dataframe tbody tr th {\n",
       "        vertical-align: top;\n",
       "    }\n",
       "\n",
       "    .dataframe thead th {\n",
       "        text-align: right;\n",
       "    }\n",
       "</style>\n",
       "<table border=\"1\" class=\"dataframe\">\n",
       "  <thead>\n",
       "    <tr style=\"text-align: right;\">\n",
       "      <th></th>\n",
       "      <th>metab_fp_0</th>\n",
       "      <th>metab_fp_1</th>\n",
       "      <th>metab_fp_2</th>\n",
       "      <th>metab_fp_3</th>\n",
       "      <th>metab_fp_4</th>\n",
       "      <th>metab_fp_5</th>\n",
       "      <th>metab_fp_6</th>\n",
       "      <th>metab_fp_7</th>\n",
       "      <th>metab_fp_8</th>\n",
       "      <th>metab_fp_9</th>\n",
       "      <th>...</th>\n",
       "      <th>metab_fp_22</th>\n",
       "      <th>metab_fp_23</th>\n",
       "      <th>metab_fp_24</th>\n",
       "      <th>metab_fp_25</th>\n",
       "      <th>metab_fp_26</th>\n",
       "      <th>metab_fp_27</th>\n",
       "      <th>metab_fp_28</th>\n",
       "      <th>metab_fp_29</th>\n",
       "      <th>metab_fp_30</th>\n",
       "      <th>metab_fp_31</th>\n",
       "    </tr>\n",
       "  </thead>\n",
       "  <tbody>\n",
       "    <tr>\n",
       "      <th>DTXSID4020402</th>\n",
       "      <td>1</td>\n",
       "      <td>1</td>\n",
       "      <td>1</td>\n",
       "      <td>0</td>\n",
       "      <td>1</td>\n",
       "      <td>1</td>\n",
       "      <td>0</td>\n",
       "      <td>1</td>\n",
       "      <td>1</td>\n",
       "      <td>0</td>\n",
       "      <td>...</td>\n",
       "      <td>1</td>\n",
       "      <td>1</td>\n",
       "      <td>0</td>\n",
       "      <td>1</td>\n",
       "      <td>0</td>\n",
       "      <td>0</td>\n",
       "      <td>0</td>\n",
       "      <td>1</td>\n",
       "      <td>0</td>\n",
       "      <td>1</td>\n",
       "    </tr>\n",
       "    <tr>\n",
       "      <th>DTXSID4027319</th>\n",
       "      <td>1</td>\n",
       "      <td>1</td>\n",
       "      <td>1</td>\n",
       "      <td>0</td>\n",
       "      <td>1</td>\n",
       "      <td>1</td>\n",
       "      <td>0</td>\n",
       "      <td>1</td>\n",
       "      <td>0</td>\n",
       "      <td>0</td>\n",
       "      <td>...</td>\n",
       "      <td>1</td>\n",
       "      <td>0</td>\n",
       "      <td>0</td>\n",
       "      <td>1</td>\n",
       "      <td>0</td>\n",
       "      <td>0</td>\n",
       "      <td>0</td>\n",
       "      <td>0</td>\n",
       "      <td>1</td>\n",
       "      <td>0</td>\n",
       "    </tr>\n",
       "    <tr>\n",
       "      <th>DTXSID4027494</th>\n",
       "      <td>1</td>\n",
       "      <td>1</td>\n",
       "      <td>0</td>\n",
       "      <td>0</td>\n",
       "      <td>1</td>\n",
       "      <td>1</td>\n",
       "      <td>1</td>\n",
       "      <td>1</td>\n",
       "      <td>0</td>\n",
       "      <td>0</td>\n",
       "      <td>...</td>\n",
       "      <td>1</td>\n",
       "      <td>1</td>\n",
       "      <td>0</td>\n",
       "      <td>1</td>\n",
       "      <td>1</td>\n",
       "      <td>1</td>\n",
       "      <td>1</td>\n",
       "      <td>0</td>\n",
       "      <td>0</td>\n",
       "      <td>0</td>\n",
       "    </tr>\n",
       "    <tr>\n",
       "      <th>DTXSID6029123</th>\n",
       "      <td>1</td>\n",
       "      <td>1</td>\n",
       "      <td>0</td>\n",
       "      <td>1</td>\n",
       "      <td>1</td>\n",
       "      <td>1</td>\n",
       "      <td>0</td>\n",
       "      <td>1</td>\n",
       "      <td>0</td>\n",
       "      <td>0</td>\n",
       "      <td>...</td>\n",
       "      <td>1</td>\n",
       "      <td>0</td>\n",
       "      <td>0</td>\n",
       "      <td>1</td>\n",
       "      <td>0</td>\n",
       "      <td>0</td>\n",
       "      <td>0</td>\n",
       "      <td>0</td>\n",
       "      <td>0</td>\n",
       "      <td>0</td>\n",
       "    </tr>\n",
       "    <tr>\n",
       "      <th>DTXSID9024930</th>\n",
       "      <td>1</td>\n",
       "      <td>1</td>\n",
       "      <td>0</td>\n",
       "      <td>0</td>\n",
       "      <td>1</td>\n",
       "      <td>1</td>\n",
       "      <td>0</td>\n",
       "      <td>1</td>\n",
       "      <td>0</td>\n",
       "      <td>1</td>\n",
       "      <td>...</td>\n",
       "      <td>1</td>\n",
       "      <td>1</td>\n",
       "      <td>1</td>\n",
       "      <td>1</td>\n",
       "      <td>0</td>\n",
       "      <td>0</td>\n",
       "      <td>0</td>\n",
       "      <td>0</td>\n",
       "      <td>0</td>\n",
       "      <td>0</td>\n",
       "    </tr>\n",
       "  </tbody>\n",
       "</table>\n",
       "<p>5 rows × 32 columns</p>\n",
       "</div>"
      ],
      "text/plain": [
       "               metab_fp_0  metab_fp_1  metab_fp_2  metab_fp_3  metab_fp_4  \\\n",
       "DTXSID4020402           1           1           1           0           1   \n",
       "DTXSID4027319           1           1           1           0           1   \n",
       "DTXSID4027494           1           1           0           0           1   \n",
       "DTXSID6029123           1           1           0           1           1   \n",
       "DTXSID9024930           1           1           0           0           1   \n",
       "\n",
       "               metab_fp_5  metab_fp_6  metab_fp_7  metab_fp_8  metab_fp_9  \\\n",
       "DTXSID4020402           1           0           1           1           0   \n",
       "DTXSID4027319           1           0           1           0           0   \n",
       "DTXSID4027494           1           1           1           0           0   \n",
       "DTXSID6029123           1           0           1           0           0   \n",
       "DTXSID9024930           1           0           1           0           1   \n",
       "\n",
       "               ...  metab_fp_22  metab_fp_23  metab_fp_24  metab_fp_25  \\\n",
       "DTXSID4020402  ...            1            1            0            1   \n",
       "DTXSID4027319  ...            1            0            0            1   \n",
       "DTXSID4027494  ...            1            1            0            1   \n",
       "DTXSID6029123  ...            1            0            0            1   \n",
       "DTXSID9024930  ...            1            1            1            1   \n",
       "\n",
       "               metab_fp_26  metab_fp_27  metab_fp_28  metab_fp_29  \\\n",
       "DTXSID4020402            0            0            0            1   \n",
       "DTXSID4027319            0            0            0            0   \n",
       "DTXSID4027494            1            1            1            0   \n",
       "DTXSID6029123            0            0            0            0   \n",
       "DTXSID9024930            0            0            0            0   \n",
       "\n",
       "               metab_fp_30  metab_fp_31  \n",
       "DTXSID4020402            0            1  \n",
       "DTXSID4027319            1            0  \n",
       "DTXSID4027494            0            0  \n",
       "DTXSID6029123            0            0  \n",
       "DTXSID9024930            0            0  \n",
       "\n",
       "[5 rows x 32 columns]"
      ]
     },
     "execution_count": 91,
     "metadata": {},
     "output_type": "execute_result"
    }
   ],
   "source": [
    "metabFP_DF = pd.DataFrame()\n",
    "for k,v in frag_dict.items():\n",
    "    a = frag_dict[k]\n",
    "    par_fp = [int(frag in a) for frag in frag_lst]\n",
    "    metabFP_DF[k] = par_fp\n",
    "metabFP_DF = metabFP_DF.transpose()\n",
    "metabFP_DF.columns = ['metab_fp_%d'%i for i in metabFP_DF.columns]\n",
    "metabFP_DF.head()\n"
   ]
  },
  {
   "cell_type": "code",
   "execution_count": 134,
   "metadata": {},
   "outputs": [
    {
     "data": {
      "text/html": [
       "<div>\n",
       "<style scoped>\n",
       "    .dataframe tbody tr th:only-of-type {\n",
       "        vertical-align: middle;\n",
       "    }\n",
       "\n",
       "    .dataframe tbody tr th {\n",
       "        vertical-align: top;\n",
       "    }\n",
       "\n",
       "    .dataframe thead th {\n",
       "        text-align: right;\n",
       "    }\n",
       "</style>\n",
       "<table border=\"1\" class=\"dataframe\">\n",
       "  <thead>\n",
       "    <tr style=\"text-align: right;\">\n",
       "      <th></th>\n",
       "      <th>DTXSID4020402</th>\n",
       "      <th>DTXSID4027319</th>\n",
       "      <th>DTXSID4027494</th>\n",
       "      <th>DTXSID6029123</th>\n",
       "      <th>DTXSID9024930</th>\n",
       "    </tr>\n",
       "  </thead>\n",
       "  <tbody>\n",
       "    <tr>\n",
       "      <th>DTXSID4020402</th>\n",
       "      <td>1.000000</td>\n",
       "      <td>0.636364</td>\n",
       "      <td>0.461538</td>\n",
       "      <td>0.565217</td>\n",
       "      <td>0.541667</td>\n",
       "    </tr>\n",
       "    <tr>\n",
       "      <th>DTXSID4027319</th>\n",
       "      <td>0.636364</td>\n",
       "      <td>1.000000</td>\n",
       "      <td>0.523810</td>\n",
       "      <td>0.666667</td>\n",
       "      <td>0.550000</td>\n",
       "    </tr>\n",
       "    <tr>\n",
       "      <th>DTXSID4027494</th>\n",
       "      <td>0.461538</td>\n",
       "      <td>0.523810</td>\n",
       "      <td>1.000000</td>\n",
       "      <td>0.454545</td>\n",
       "      <td>0.571429</td>\n",
       "    </tr>\n",
       "    <tr>\n",
       "      <th>DTXSID6029123</th>\n",
       "      <td>0.565217</td>\n",
       "      <td>0.666667</td>\n",
       "      <td>0.454545</td>\n",
       "      <td>1.000000</td>\n",
       "      <td>0.550000</td>\n",
       "    </tr>\n",
       "    <tr>\n",
       "      <th>DTXSID9024930</th>\n",
       "      <td>0.541667</td>\n",
       "      <td>0.550000</td>\n",
       "      <td>0.571429</td>\n",
       "      <td>0.550000</td>\n",
       "      <td>1.000000</td>\n",
       "    </tr>\n",
       "  </tbody>\n",
       "</table>\n",
       "</div>"
      ],
      "text/plain": [
       "               DTXSID4020402  DTXSID4027319  DTXSID4027494  DTXSID6029123  \\\n",
       "DTXSID4020402       1.000000       0.636364       0.461538       0.565217   \n",
       "DTXSID4027319       0.636364       1.000000       0.523810       0.666667   \n",
       "DTXSID4027494       0.461538       0.523810       1.000000       0.454545   \n",
       "DTXSID6029123       0.565217       0.666667       0.454545       1.000000   \n",
       "DTXSID9024930       0.541667       0.550000       0.571429       0.550000   \n",
       "\n",
       "               DTXSID9024930  \n",
       "DTXSID4020402       0.541667  \n",
       "DTXSID4027319       0.550000  \n",
       "DTXSID4027494       0.571429  \n",
       "DTXSID6029123       0.550000  \n",
       "DTXSID9024930       1.000000  "
      ]
     },
     "execution_count": 134,
     "metadata": {},
     "output_type": "execute_result"
    }
   ],
   "source": [
    "D_met = pd.DataFrame(squareform(pdist(metabFP_DF, 'jaccard')), columns = metabFP_DF.index, index = metabFP_DF.index)\n",
    "S_met = 1-D_met\n",
    "S_met.head()\n"
   ]
  },
  {
   "cell_type": "code",
   "execution_count": 96,
   "metadata": {},
   "outputs": [],
   "source": [
    "def mk_fp(df):\n",
    "    MOLS = dict(zip(df['DTXSID'], df['SMILES']))\n",
    "    MOLS = {k:Chem.MolFromSmiles(v) for k,v in MOLS.items()}\n",
    "    MOLS = {i:j for i,j in MOLS.items() if j}\n",
    "    FP0 = pd.DataFrame([np.array(AllChem.GetMorganFingerprintAsBitVect(i,3,1024)) for i in MOLS.values()])\n",
    "    FP0.index=MOLS.keys()\n",
    "    FP0.columns = ['mrgn_%d'%i for i in FP0.columns]\n",
    "    return FP0"
   ]
  },
  {
   "cell_type": "code",
   "execution_count": 99,
   "metadata": {},
   "outputs": [],
   "source": [
    "mgrn_parents = mk_fp(parents)"
   ]
  },
  {
   "cell_type": "code",
   "execution_count": 100,
   "metadata": {},
   "outputs": [],
   "source": [
    "D_txps = pd.DataFrame(squareform(pdist(mgrn_parents, 'jaccard')), columns = mgrn_parents.index, index = mgrn_parents.index)\n",
    "S_txps = 1-D_txps"
   ]
  },
  {
   "cell_type": "code",
   "execution_count": 101,
   "metadata": {},
   "outputs": [
    {
     "data": {
      "text/html": [
       "<div>\n",
       "<style scoped>\n",
       "    .dataframe tbody tr th:only-of-type {\n",
       "        vertical-align: middle;\n",
       "    }\n",
       "\n",
       "    .dataframe tbody tr th {\n",
       "        vertical-align: top;\n",
       "    }\n",
       "\n",
       "    .dataframe thead th {\n",
       "        text-align: right;\n",
       "    }\n",
       "</style>\n",
       "<table border=\"1\" class=\"dataframe\">\n",
       "  <thead>\n",
       "    <tr style=\"text-align: right;\">\n",
       "      <th></th>\n",
       "      <th>DTXSID4020402</th>\n",
       "      <th>DTXSID4027319</th>\n",
       "      <th>DTXSID4027494</th>\n",
       "      <th>DTXSID6029123</th>\n",
       "      <th>DTXSID9024930</th>\n",
       "    </tr>\n",
       "  </thead>\n",
       "  <tbody>\n",
       "    <tr>\n",
       "      <th>DTXSID4020402</th>\n",
       "      <td>1.000000</td>\n",
       "      <td>0.266667</td>\n",
       "      <td>0.312500</td>\n",
       "      <td>0.448276</td>\n",
       "      <td>0.322581</td>\n",
       "    </tr>\n",
       "    <tr>\n",
       "      <th>DTXSID4027319</th>\n",
       "      <td>0.266667</td>\n",
       "      <td>1.000000</td>\n",
       "      <td>0.407407</td>\n",
       "      <td>0.266667</td>\n",
       "      <td>0.275862</td>\n",
       "    </tr>\n",
       "    <tr>\n",
       "      <th>DTXSID4027494</th>\n",
       "      <td>0.312500</td>\n",
       "      <td>0.407407</td>\n",
       "      <td>1.000000</td>\n",
       "      <td>0.312500</td>\n",
       "      <td>0.281250</td>\n",
       "    </tr>\n",
       "    <tr>\n",
       "      <th>DTXSID6029123</th>\n",
       "      <td>0.448276</td>\n",
       "      <td>0.266667</td>\n",
       "      <td>0.312500</td>\n",
       "      <td>1.000000</td>\n",
       "      <td>0.413793</td>\n",
       "    </tr>\n",
       "    <tr>\n",
       "      <th>DTXSID9024930</th>\n",
       "      <td>0.322581</td>\n",
       "      <td>0.275862</td>\n",
       "      <td>0.281250</td>\n",
       "      <td>0.413793</td>\n",
       "      <td>1.000000</td>\n",
       "    </tr>\n",
       "  </tbody>\n",
       "</table>\n",
       "</div>"
      ],
      "text/plain": [
       "               DTXSID4020402  DTXSID4027319  DTXSID4027494  DTXSID6029123  \\\n",
       "DTXSID4020402       1.000000       0.266667       0.312500       0.448276   \n",
       "DTXSID4027319       0.266667       1.000000       0.407407       0.266667   \n",
       "DTXSID4027494       0.312500       0.407407       1.000000       0.312500   \n",
       "DTXSID6029123       0.448276       0.266667       0.312500       1.000000   \n",
       "DTXSID9024930       0.322581       0.275862       0.281250       0.413793   \n",
       "\n",
       "               DTXSID9024930  \n",
       "DTXSID4020402       0.322581  \n",
       "DTXSID4027319       0.275862  \n",
       "DTXSID4027494       0.281250  \n",
       "DTXSID6029123       0.413793  \n",
       "DTXSID9024930       1.000000  "
      ]
     },
     "execution_count": 101,
     "metadata": {},
     "output_type": "execute_result"
    }
   ],
   "source": [
    "S_txps"
   ]
  },
  {
   "cell_type": "code",
   "execution_count": 104,
   "metadata": {},
   "outputs": [],
   "source": [
    "name_dict = {'DTXSID4020402': '2,4-TDA', 'DTXSID9024930': '3,4-TDA', 'DTXSID3025881':'DTXSID3025881', 'DTXSID4027319':'2,6-TDA',\n",
    "       'DTXSID4027494': '2,3-TDA', 'DTXSID6029123': '2,5-TDA'}"
   ]
  },
  {
   "cell_type": "code",
   "execution_count": 109,
   "metadata": {},
   "outputs": [],
   "source": [
    "S_txps.index = S_txps.index.map(name_dict)"
   ]
  },
  {
   "cell_type": "code",
   "execution_count": 112,
   "metadata": {},
   "outputs": [],
   "source": [
    "S_txps.columns = S_txps.columns.map(name_dict)"
   ]
  },
  {
   "cell_type": "code",
   "execution_count": null,
   "metadata": {},
   "outputs": [],
   "source": []
  },
  {
   "cell_type": "code",
   "execution_count": 114,
   "metadata": {},
   "outputs": [
    {
     "data": {
      "image/png": "[encoded data removed]",
      "text/plain": [
       "<Figure size 864x576 with 2 Axes>"
      ]
     },
     "metadata": {
      "needs_background": "light"
     },
     "output_type": "display_data"
    }
   ],
   "source": [
    "\n",
    "S_mgrn = S_txps.where(np.tril(np.ones(S_txps.shape)).astype(np.bool))\n",
    "\n",
    "plt.figure(figsize=(12, 8))\n",
    "sns.heatmap(S_mgrn.round(2), cmap = 'coolwarm',annot=True, cbar_kws={'label': 'Jaccard similarity'}, annot_kws={\"size\": 16})\n",
    "plt.yticks(fontsize = 15)\n",
    "plt.xticks(fontsize = 15, rotation = 60)\n",
    "plt.savefig(figures_dir+'Similarity_parent_TDAs.png', bbox_inches='tight');"
   ]
  },
  {
   "cell_type": "code",
   "execution_count": 136,
   "metadata": {},
   "outputs": [],
   "source": [
    "S_met.index = S_met.index.map(name_dict)\n",
    "S_met.columns = S_met.columns.map(name_dict)"
   ]
  },
  {
   "cell_type": "code",
   "execution_count": 137,
   "metadata": {},
   "outputs": [
    {
     "data": {
      "text/html": [
       "<div>\n",
       "<style scoped>\n",
       "    .dataframe tbody tr th:only-of-type {\n",
       "        vertical-align: middle;\n",
       "    }\n",
       "\n",
       "    .dataframe tbody tr th {\n",
       "        vertical-align: top;\n",
       "    }\n",
       "\n",
       "    .dataframe thead th {\n",
       "        text-align: right;\n",
       "    }\n",
       "</style>\n",
       "<table border=\"1\" class=\"dataframe\">\n",
       "  <thead>\n",
       "    <tr style=\"text-align: right;\">\n",
       "      <th></th>\n",
       "      <th>2,4-TDA</th>\n",
       "      <th>2,6-TDA</th>\n",
       "      <th>2,3-TDA</th>\n",
       "      <th>2,5-TDA</th>\n",
       "      <th>3,4-TDA</th>\n",
       "    </tr>\n",
       "  </thead>\n",
       "  <tbody>\n",
       "    <tr>\n",
       "      <th>2,4-TDA</th>\n",
       "      <td>1.000000</td>\n",
       "      <td>0.636364</td>\n",
       "      <td>0.461538</td>\n",
       "      <td>0.565217</td>\n",
       "      <td>0.541667</td>\n",
       "    </tr>\n",
       "    <tr>\n",
       "      <th>2,6-TDA</th>\n",
       "      <td>0.636364</td>\n",
       "      <td>1.000000</td>\n",
       "      <td>0.523810</td>\n",
       "      <td>0.666667</td>\n",
       "      <td>0.550000</td>\n",
       "    </tr>\n",
       "    <tr>\n",
       "      <th>2,3-TDA</th>\n",
       "      <td>0.461538</td>\n",
       "      <td>0.523810</td>\n",
       "      <td>1.000000</td>\n",
       "      <td>0.454545</td>\n",
       "      <td>0.571429</td>\n",
       "    </tr>\n",
       "    <tr>\n",
       "      <th>2,5-TDA</th>\n",
       "      <td>0.565217</td>\n",
       "      <td>0.666667</td>\n",
       "      <td>0.454545</td>\n",
       "      <td>1.000000</td>\n",
       "      <td>0.550000</td>\n",
       "    </tr>\n",
       "    <tr>\n",
       "      <th>3,4-TDA</th>\n",
       "      <td>0.541667</td>\n",
       "      <td>0.550000</td>\n",
       "      <td>0.571429</td>\n",
       "      <td>0.550000</td>\n",
       "      <td>1.000000</td>\n",
       "    </tr>\n",
       "  </tbody>\n",
       "</table>\n",
       "</div>"
      ],
      "text/plain": [
       "          2,4-TDA   2,6-TDA   2,3-TDA   2,5-TDA   3,4-TDA\n",
       "2,4-TDA  1.000000  0.636364  0.461538  0.565217  0.541667\n",
       "2,6-TDA  0.636364  1.000000  0.523810  0.666667  0.550000\n",
       "2,3-TDA  0.461538  0.523810  1.000000  0.454545  0.571429\n",
       "2,5-TDA  0.565217  0.666667  0.454545  1.000000  0.550000\n",
       "3,4-TDA  0.541667  0.550000  0.571429  0.550000  1.000000"
      ]
     },
     "execution_count": 137,
     "metadata": {},
     "output_type": "execute_result"
    }
   ],
   "source": [
    "S_met.head()"
   ]
  },
  {
   "cell_type": "code",
   "execution_count": 117,
   "metadata": {},
   "outputs": [
    {
     "data": {
      "image/png": "[encoded data removed]",
      "text/plain": [
       "<Figure size 864x576 with 2 Axes>"
      ]
     },
     "metadata": {
      "needs_background": "light"
     },
     "output_type": "display_data"
    }
   ],
   "source": [
    "S_met = S_met.where(np.tril(np.ones(S_met.shape)).astype(np.bool))\n",
    "\n",
    "plt.figure(figsize=(12, 8))\n",
    "sns.heatmap(S_met.round(2), cmap = 'coolwarm',annot=True, cbar_kws={'label': 'Jaccard similarity'}, annot_kws={\"size\": 16})\n",
    "plt.yticks(fontsize = 15)\n",
    "plt.xticks(fontsize = 15, rotation = 60)\n",
    "plt.savefig(figures_dir+'Similarity_metabFP_TDAs.png', bbox_inches='tight');"
   ]
  },
  {
   "cell_type": "code",
   "execution_count": 139,
   "metadata": {},
   "outputs": [
    {
     "data": {
      "text/html": [
       "<div>\n",
       "<style scoped>\n",
       "    .dataframe tbody tr th:only-of-type {\n",
       "        vertical-align: middle;\n",
       "    }\n",
       "\n",
       "    .dataframe tbody tr th {\n",
       "        vertical-align: top;\n",
       "    }\n",
       "\n",
       "    .dataframe thead th {\n",
       "        text-align: right;\n",
       "    }\n",
       "</style>\n",
       "<table border=\"1\" class=\"dataframe\">\n",
       "  <thead>\n",
       "    <tr style=\"text-align: right;\">\n",
       "      <th></th>\n",
       "      <th>DTXSID_x</th>\n",
       "      <th>DTXSID_y</th>\n",
       "      <th>Jaccard_met</th>\n",
       "      <th>Jaccard_chem</th>\n",
       "    </tr>\n",
       "  </thead>\n",
       "  <tbody>\n",
       "    <tr>\n",
       "      <th>0</th>\n",
       "      <td>2,4-TDA</td>\n",
       "      <td>2,4-TDA</td>\n",
       "      <td>1.000000</td>\n",
       "      <td>1.000000</td>\n",
       "    </tr>\n",
       "    <tr>\n",
       "      <th>1</th>\n",
       "      <td>2,4-TDA</td>\n",
       "      <td>2,6-TDA</td>\n",
       "      <td>0.636364</td>\n",
       "      <td>0.266667</td>\n",
       "    </tr>\n",
       "    <tr>\n",
       "      <th>2</th>\n",
       "      <td>2,4-TDA</td>\n",
       "      <td>2,3-TDA</td>\n",
       "      <td>0.461538</td>\n",
       "      <td>0.312500</td>\n",
       "    </tr>\n",
       "    <tr>\n",
       "      <th>3</th>\n",
       "      <td>2,4-TDA</td>\n",
       "      <td>2,5-TDA</td>\n",
       "      <td>0.565217</td>\n",
       "      <td>0.448276</td>\n",
       "    </tr>\n",
       "    <tr>\n",
       "      <th>4</th>\n",
       "      <td>2,4-TDA</td>\n",
       "      <td>3,4-TDA</td>\n",
       "      <td>0.541667</td>\n",
       "      <td>0.322581</td>\n",
       "    </tr>\n",
       "  </tbody>\n",
       "</table>\n",
       "</div>"
      ],
      "text/plain": [
       "  DTXSID_x DTXSID_y  Jaccard_met  Jaccard_chem\n",
       "0  2,4-TDA  2,4-TDA     1.000000      1.000000\n",
       "1  2,4-TDA  2,6-TDA     0.636364      0.266667\n",
       "2  2,4-TDA  2,3-TDA     0.461538      0.312500\n",
       "3  2,4-TDA  2,5-TDA     0.565217      0.448276\n",
       "4  2,4-TDA  3,4-TDA     0.541667      0.322581"
      ]
     },
     "execution_count": 139,
     "metadata": {},
     "output_type": "execute_result"
    }
   ],
   "source": [
    "long_form_txps = S_txps.unstack()\n",
    "long_form_txps.index.rename(['DTXSID_x', 'DTXSID_y'], inplace = True)\n",
    "long_form_txps = long_form_txps.to_frame('Jaccard_chem').reset_index()\n",
    "long_form_met = S_met.unstack()\n",
    "long_form_met.index.rename(['DTXSID_x', 'DTXSID_y'], inplace = True)\n",
    "long_form_met = long_form_met.to_frame('Jaccard_met').reset_index()\n",
    "long_form_met.head()\n",
    "long_met_chem = pd.merge(long_form_met, long_form_txps, on = ['DTXSID_x','DTXSID_y'], how = 'inner')\n",
    "long_met_chem.head()"
   ]
  },
  {
   "cell_type": "code",
   "execution_count": 142,
   "metadata": {},
   "outputs": [
    {
     "data": {
      "text/plain": [
       "Text(0, 0.5, 'Metabolic_similarity')"
      ]
     },
     "execution_count": 142,
     "metadata": {},
     "output_type": "execute_result"
    },
    {
     "data": {
      "image/png": "[encoded data removed]",
      "text/plain": [
       "<Figure size 720x648 with 1 Axes>"
      ]
     },
     "metadata": {},
     "output_type": "display_data"
    }
   ],
   "source": [
    "plt.style.use('ggplot')\n",
    "plt.figure(figsize = (10,9))\n",
    "plt.plot(long_met_chem['Jaccard_chem'], long_met_chem['Jaccard_met'], marker = '.', linestyle = 'none', color = 'b')\n",
    "plt.xlabel('Parent_structural_similarity')\n",
    "plt.ylabel('Metabolic_similarity')"
   ]
  },
  {
   "cell_type": "code",
   "execution_count": 143,
   "metadata": {},
   "outputs": [
    {
     "data": {
      "text/html": [
       "<div>\n",
       "<style scoped>\n",
       "    .dataframe tbody tr th:only-of-type {\n",
       "        vertical-align: middle;\n",
       "    }\n",
       "\n",
       "    .dataframe tbody tr th {\n",
       "        vertical-align: top;\n",
       "    }\n",
       "\n",
       "    .dataframe thead th {\n",
       "        text-align: right;\n",
       "    }\n",
       "</style>\n",
       "<table border=\"1\" class=\"dataframe\">\n",
       "  <thead>\n",
       "    <tr style=\"text-align: right;\">\n",
       "      <th></th>\n",
       "      <th>DTXSID_x</th>\n",
       "      <th>DTXSID_y</th>\n",
       "      <th>Jaccard_met</th>\n",
       "      <th>Jaccard_chem</th>\n",
       "    </tr>\n",
       "  </thead>\n",
       "  <tbody>\n",
       "    <tr>\n",
       "      <th>24</th>\n",
       "      <td>3,4-TDA</td>\n",
       "      <td>3,4-TDA</td>\n",
       "      <td>1.000000</td>\n",
       "      <td>1.000000</td>\n",
       "    </tr>\n",
       "    <tr>\n",
       "      <th>23</th>\n",
       "      <td>3,4-TDA</td>\n",
       "      <td>2,5-TDA</td>\n",
       "      <td>0.550000</td>\n",
       "      <td>0.413793</td>\n",
       "    </tr>\n",
       "    <tr>\n",
       "      <th>20</th>\n",
       "      <td>3,4-TDA</td>\n",
       "      <td>2,4-TDA</td>\n",
       "      <td>0.541667</td>\n",
       "      <td>0.322581</td>\n",
       "    </tr>\n",
       "    <tr>\n",
       "      <th>22</th>\n",
       "      <td>3,4-TDA</td>\n",
       "      <td>2,3-TDA</td>\n",
       "      <td>0.571429</td>\n",
       "      <td>0.281250</td>\n",
       "    </tr>\n",
       "    <tr>\n",
       "      <th>21</th>\n",
       "      <td>3,4-TDA</td>\n",
       "      <td>2,6-TDA</td>\n",
       "      <td>0.550000</td>\n",
       "      <td>0.275862</td>\n",
       "    </tr>\n",
       "  </tbody>\n",
       "</table>\n",
       "</div>"
      ],
      "text/plain": [
       "   DTXSID_x DTXSID_y  Jaccard_met  Jaccard_chem\n",
       "24  3,4-TDA  3,4-TDA     1.000000      1.000000\n",
       "23  3,4-TDA  2,5-TDA     0.550000      0.413793\n",
       "20  3,4-TDA  2,4-TDA     0.541667      0.322581\n",
       "22  3,4-TDA  2,3-TDA     0.571429      0.281250\n",
       "21  3,4-TDA  2,6-TDA     0.550000      0.275862"
      ]
     },
     "execution_count": 143,
     "metadata": {},
     "output_type": "execute_result"
    }
   ],
   "source": [
    "nt2 = long_met_chem[long_met_chem['DTXSID_x'] =='3,4-TDA'].sort_values(by = ['Jaccard_chem', 'Jaccard_met'], ascending = [False, False]).head(10)\n",
    "nt2 "
   ]
  },
  {
   "cell_type": "code",
   "execution_count": null,
   "metadata": {},
   "outputs": [],
   "source": []
  }
 ],
 "metadata": {
  "kernelspec": {
   "display_name": "pfas_dap",
   "language": "python",
   "name": "pfas_dap"
  },
  "language_info": {
   "codemirror_mode": {
    "name": "ipython",
    "version": 3
   },
   "file_extension": ".py",
   "mimetype": "text/x-python",
   "name": "python",
   "nbconvert_exporter": "python",
   "pygments_lexer": "ipython3",
   "version": "3.8.6"
  }
 },
 "nbformat": 4,
 "nbformat_minor": 4
}
